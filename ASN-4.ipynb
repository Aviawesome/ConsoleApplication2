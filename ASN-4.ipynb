{
  "nbformat": 4,
  "nbformat_minor": 0,
  "metadata": {
    "colab": {
      "name": "Untitled4.ipynb",
      "provenance": [],
      "authorship_tag": "ABX9TyNtepqnhdwwJj3xx2Bf0Gwz",
      "include_colab_link": true
    },
    "kernelspec": {
      "name": "python3",
      "display_name": "Python 3"
    },
    "language_info": {
      "name": "python"
    }
  },
  "cells": [
    {
      "cell_type": "markdown",
      "metadata": {
        "id": "view-in-github",
        "colab_type": "text"
      },
      "source": [
        "<a href=\"https://colab.research.google.com/github/Aviawesome/ConsoleApplication2/blob/master/ASN-4.ipynb\" target=\"_parent\"><img src=\"https://colab.research.google.com/assets/colab-badge.svg\" alt=\"Open In Colab\"/></a>"
      ]
    },
    {
      "cell_type": "code",
      "execution_count": 8,
      "metadata": {
        "colab": {
          "base_uri": "https://localhost:8080/"
        },
        "id": "YsW9GyBJ8n_z",
        "outputId": "ba49be00-b363-47e4-a95c-c5d3212626e5"
      },
      "outputs": [
        {
          "output_type": "stream",
          "name": "stdout",
          "text": [
            "Writing MatrixMultiplication.c\n"
          ]
        }
      ],
      "source": [
        "%%writefile MatrixMultiplication.c\n",
        "\n",
        "#include <omp.h>\n",
        "#include <mpi.h>\n",
        "#include <stdio.h>\n",
        "#include <stdlib.h>\n",
        "#define TAG 13\n",
        "int main(int argc, char **argv) \n",
        "{\n",
        "  double **A, **B, **C, *tmp;\n",
        "  double startTime, endTime;\n",
        "  int numElements, offset, stripSize, myrank, numnodes, N, i, j, k;\n",
        "  int numThreads, chunkSize = 10;\n",
        "  MPI_Init(&argc, &argv);\n",
        "  MPI_Comm_rank(MPI_COMM_WORLD, &myrank);\n",
        "  MPI_Comm_size(MPI_COMM_WORLD, &numnodes);\n",
        "  N = atoi(argv[1]);\n",
        "  numThreads = atoi(argv[2]);\n",
        "  omp_set_num_threads(numThreads);\n",
        "  if (myrank == 0) {\n",
        "    tmp = (double *) malloc (sizeof(double ) * N * N);\n",
        "    A = (double **) malloc (sizeof(double *) * N);\n",
        "    for (i = 0; i < N; i++)\n",
        "      A[i] = &tmp[i * N];\n",
        "  }\n",
        "  else {\n",
        "    tmp = (double *) malloc (sizeof(double ) * N * N / numnodes);\n",
        "    A = (double **) malloc (sizeof(double *) * N / numnodes);\n",
        "    for (i = 0; i < N / numnodes; i++)\n",
        "      A[i] = &tmp[i * N];\n",
        "  }\n",
        "  tmp = (double *) malloc (sizeof(double ) * N * N);\n",
        "  B = (double **) malloc (sizeof(double *) * N);\n",
        "  for (i = 0; i < N; i++)\n",
        "    B[i] = &tmp[i * N];\n",
        "  if (myrank == 0) {\n",
        "    tmp = (double *) malloc (sizeof(double ) * N * N);\n",
        "    C = (double **) malloc (sizeof(double *) * N);\n",
        "    for (i = 0; i < N; i++)\n",
        "      C[i] = &tmp[i * N];\n",
        "  }\n",
        "  else {\n",
        "    tmp = (double *) malloc (sizeof(double ) * N * N / numnodes);\n",
        "    C = (double **) malloc (sizeof(double *) * N / numnodes);\n",
        "    for (i = 0; i < N / numnodes; i++)\n",
        "      C[i] = &tmp[i * N];\n",
        "  }\n",
        "  if (myrank == 0) {\n",
        "    for (i=0; i<N; i++) {\n",
        "      for (j=0; j<N; j++) {\n",
        "        A[i][j] = 1.0;\n",
        "        B[i][j] = 1.0;\n",
        "      }\n",
        "    }\n",
        "  }\n",
        "  if (myrank == 0) {\n",
        "    startTime = MPI_Wtime();\n",
        "  }\n",
        "  stripSize = N/numnodes;\n",
        "  if (myrank == 0) {\n",
        "    offset = stripSize;\n",
        "    numElements = stripSize * N;\n",
        "    for (i=1; i<numnodes; i++) {\n",
        "      MPI_Send(A[offset], numElements, MPI_DOUBLE, i, TAG, MPI_COMM_WORLD);\n",
        "      offset += stripSize;\n",
        "    }\n",
        "  }\n",
        "  else {\n",
        "    MPI_Recv(A[0], stripSize * N, MPI_DOUBLE, 0, TAG, MPI_COMM_WORLD, MPI_STATUS_IGNORE);\n",
        "  }\n",
        "  MPI_Bcast(B[0], N*N, MPI_DOUBLE, 0, MPI_COMM_WORLD); \n",
        "  for (i=0; i<stripSize; i++) {\n",
        "    for (j=0; j<N; j++) {\n",
        "      C[i][j] = 0.0;\n",
        "    }\n",
        "  }\n",
        "  #pragma omp parallel for shared(A,B,C,numThreads) private(i,j,k)\n",
        "  for (i=0; i<stripSize; i++) {\n",
        "    for (j=0; j<N; j++) {\n",
        "      for (k=0; k<N; k++) {\n",
        "\tC[i][j] += A[i][k] * B[k][j];\n",
        "      }\n",
        "    }\n",
        "  }\n",
        "  if (myrank == 0) {\n",
        "    offset = stripSize; \n",
        "    numElements = stripSize * N;\n",
        "    for (i=1; i<numnodes; i++) {\n",
        "      MPI_Recv(C[offset], numElements, MPI_DOUBLE, i, TAG, MPI_COMM_WORLD, MPI_STATUS_IGNORE);\n",
        "      offset += stripSize;\n",
        "    }\n",
        "  }\n",
        "  else {\n",
        "    MPI_Send(C[0], stripSize * N, MPI_DOUBLE, 0, TAG, MPI_COMM_WORLD);\n",
        "  }\n",
        "\n",
        "  if (myrank == 0) {\n",
        "    endTime = MPI_Wtime();\n",
        "    printf(\"Time is %f\\n\", endTime-startTime);\n",
        "  }\n",
        "  if (myrank == 0 && N < 10) {\n",
        "    for (i=0; i<N; i++) {\n",
        "      for (j=0; j<N; j++) {\n",
        "        printf(\"%f \", C[i][j]);\n",
        "      }\n",
        "      printf(\"\\n\");\n",
        "    }\n",
        "  }\n",
        "  \n",
        "  MPI_Finalize();\n",
        "  return 0;\n",
        "}"
      ]
    }
  ]
}